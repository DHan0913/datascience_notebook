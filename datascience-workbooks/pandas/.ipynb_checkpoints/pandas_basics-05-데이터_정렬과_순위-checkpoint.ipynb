{
 "cells": [
  {
   "cell_type": "markdown",
   "id": "a097ca023c22fa13",
   "metadata": {},
   "source": [
    "# Pandas\n",
    "-----\n",
    "## 05. 데이터 정렬과 순위\n",
    "### 데이터 정렬\n",
    "- sort_index() : 인덱스를 기준으로 정렬\n",
    "- sort_value() : 데이터 값을 기준으로 정렬\n",
    "#### sort_index()"
   ]
  },
  {
   "cell_type": "code",
   "execution_count": 1,
   "id": "bcadf15ccf07fb19",
   "metadata": {
    "ExecuteTime": {
     "end_time": "2023-08-02T05:28:44.590232500Z",
     "start_time": "2023-08-02T05:28:44.570448500Z"
    }
   },
   "outputs": [
    {
     "data": {
      "text/html": [
       "<div>\n",
       "<style scoped>\n",
       "    .dataframe tbody tr th:only-of-type {\n",
       "        vertical-align: middle;\n",
       "    }\n",
       "\n",
       "    .dataframe tbody tr th {\n",
       "        vertical-align: top;\n",
       "    }\n",
       "\n",
       "    .dataframe thead th {\n",
       "        text-align: right;\n",
       "    }\n",
       "</style>\n",
       "<table border=\"1\" class=\"dataframe\">\n",
       "  <thead>\n",
       "    <tr style=\"text-align: right;\">\n",
       "      <th></th>\n",
       "      <th>카테고리</th>\n",
       "      <th>금액</th>\n",
       "    </tr>\n",
       "    <tr>\n",
       "      <th>날짜</th>\n",
       "      <th></th>\n",
       "      <th></th>\n",
       "    </tr>\n",
       "  </thead>\n",
       "  <tbody>\n",
       "    <tr>\n",
       "      <th>2023-06-30</th>\n",
       "      <td>미용</td>\n",
       "      <td>20100</td>\n",
       "    </tr>\n",
       "    <tr>\n",
       "      <th>2023-06-30</th>\n",
       "      <td>자동차</td>\n",
       "      <td>115500</td>\n",
       "    </tr>\n",
       "    <tr>\n",
       "      <th>2023-06-30</th>\n",
       "      <td>병원</td>\n",
       "      <td>98700</td>\n",
       "    </tr>\n",
       "    <tr>\n",
       "      <th>2023-06-29</th>\n",
       "      <td>외식</td>\n",
       "      <td>35600</td>\n",
       "    </tr>\n",
       "    <tr>\n",
       "      <th>2023-06-29</th>\n",
       "      <td>기부</td>\n",
       "      <td>19700</td>\n",
       "    </tr>\n",
       "    <tr>\n",
       "      <th>...</th>\n",
       "      <td>...</td>\n",
       "      <td>...</td>\n",
       "    </tr>\n",
       "    <tr>\n",
       "      <th>2023-01-02</th>\n",
       "      <td>대중교통</td>\n",
       "      <td>1500</td>\n",
       "    </tr>\n",
       "    <tr>\n",
       "      <th>2023-01-01</th>\n",
       "      <td>운동</td>\n",
       "      <td>84900</td>\n",
       "    </tr>\n",
       "    <tr>\n",
       "      <th>2023-01-01</th>\n",
       "      <td>데이트</td>\n",
       "      <td>114600</td>\n",
       "    </tr>\n",
       "    <tr>\n",
       "      <th>2023-01-01</th>\n",
       "      <td>기부</td>\n",
       "      <td>29800</td>\n",
       "    </tr>\n",
       "    <tr>\n",
       "      <th>2023-01-01</th>\n",
       "      <td>마트</td>\n",
       "      <td>97300</td>\n",
       "    </tr>\n",
       "  </tbody>\n",
       "</table>\n",
       "<p>543 rows × 2 columns</p>\n",
       "</div>"
      ],
      "text/plain": [
       "            카테고리      금액\n",
       "날짜                      \n",
       "2023-06-30    미용   20100\n",
       "2023-06-30   자동차  115500\n",
       "2023-06-30    병원   98700\n",
       "2023-06-29    외식   35600\n",
       "2023-06-29    기부   19700\n",
       "...          ...     ...\n",
       "2023-01-02  대중교통    1500\n",
       "2023-01-01    운동   84900\n",
       "2023-01-01   데이트  114600\n",
       "2023-01-01    기부   29800\n",
       "2023-01-01    마트   97300\n",
       "\n",
       "[543 rows x 2 columns]"
      ]
     },
     "execution_count": 1,
     "metadata": {},
     "output_type": "execute_result"
    }
   ],
   "source": [
    "import pandas as pd\n",
    "\n",
    "# data/household_accounts.csv를 기준으로 연습\n",
    "df = pd.read_csv('../data/household_accounts.csv', index_col=0)\n",
    "df\n",
    "\n",
    "df_sorted = df.sort_index(ascending=False) # 내림차순\n",
    "df_sorted"
   ]
  },
  {
   "cell_type": "markdown",
   "id": "f3451fa4103f4c13",
   "metadata": {},
   "source": [
    "#### sort_values()\n"
   ]
  },
  {
   "cell_type": "code",
   "execution_count": null,
   "id": "1e740a426dce7feb",
   "metadata": {
    "ExecuteTime": {
     "end_time": "2023-08-02T05:42:56.871304700Z",
     "start_time": "2023-08-02T05:42:56.859929700Z"
    }
   },
   "outputs": [],
   "source": [
    "df.sort_values(by='금액', ascending=False) # 내림차순\n",
    "\n",
    "df_daily = df.groupby('날짜')['금액'].sum()\n",
    "df_daily\n",
    "\n",
    "df_daily.sort_values(ascending=False)\n"
   ]
  },
  {
   "cell_type": "markdown",
   "id": "a64a7ec2fd385cd1",
   "metadata": {},
   "source": [
    "### 데이터 순위\n",
    "#### rank\n",
    "- rank 메서드\n",
    "- 동점이 있을 때 순위를 결정\n",
    "- 일반적인 순위 지정 방법\n",
    "    - average (default)\n",
    "        - 동점이 있을 경우, 동점 요소에 평균 순위를 할당\n",
    "    - min\n",
    "        - 동점이 있을 경우, 동점 요소 중 최소 순위를 할당\n",
    "    - max\n",
    "        - 동점이 있을 경우, 동점 요소 중 최대 순위를 할당\n",
    "    - first\n",
    "        - 데이터프레임 내의 위치에 따라 순위를 할당\n",
    "    - dense\n",
    "        - min과 비슷하지만 같은 순위를 건너뛰지 않고 순위를 1씩 증가시킴"
   ]
  },
  {
   "cell_type": "code",
   "execution_count": null,
   "id": "2fd6cfbe2702196e",
   "metadata": {
    "ExecuteTime": {
     "end_time": "2023-08-02T06:04:17.222512300Z",
     "start_time": "2023-08-02T06:04:17.207329600Z"
    }
   },
   "outputs": [],
   "source": [
    "# 제공된 코드\n",
    "import pandas as pd\n",
    "\n",
    "data = {'Score': [85, 92, 78, 95, 88, 92]}\n",
    "df = pd.DataFrame(data)\n",
    "# /제공된 코드\n",
    "\n",
    "# 기본값 (average)\n",
    "df['rank_average'] = df['Score'].rank(ascending=False)\n",
    "df['rank_min'] = df['Score'].rank(ascending=False, method='min')\n",
    "df['rank_max'] = df['Score'].rank(ascending=False, method='max')\n",
    "df['rank_first'] = df['Score'].rank(ascending=False, method='first')\n",
    "df['rank_dense'] = df['Score'].rank(ascending=False, method='dense')\n",
    "\n",
    "df"
   ]
  },
  {
   "cell_type": "code",
   "execution_count": null,
   "id": "8bd46870ba428c7d",
   "metadata": {
    "ExecuteTime": {
     "end_time": "2023-08-02T06:07:49.177782900Z",
     "start_time": "2023-08-02T06:07:49.157001600Z"
    }
   },
   "outputs": [],
   "source": [
    "# 제공된 코드\n",
    "import pandas as pd\n",
    "\n",
    "data = {\n",
    "    'Name': ['Alice', 'Bob', 'Charlie', 'David', 'Eva'],\n",
    "    'Score': [85, 92, 78, 95, 88],\n",
    "    'Age': [25, 34, 19, 28, 22],\n",
    "    'Height': [165, 178, 155, 172, 168]\n",
    "}\n",
    "\n",
    "df = pd.DataFrame(data)\n",
    "df\n",
    "# /제공된 코드\n",
    "\n",
    "# Score 열을 기준으로 순위를 포함하는 Score_Rank 변수를 파생\n",
    "df['Score_Rank'] = df['Score'].rank(ascending=False)\n",
    "df.sort_values(by='Score_Rank', inplace=True)\n",
    "df"
   ]
  },
  {
   "cell_type": "code",
   "execution_count": null,
   "id": "59d4172db09e3576",
   "metadata": {},
   "outputs": [],
   "source": []
  }
 ],
 "metadata": {
  "kernelspec": {
   "display_name": "Python 3 (ipykernel)",
   "language": "python",
   "name": "python3"
  },
  "language_info": {
   "codemirror_mode": {
    "name": "ipython",
    "version": 3
   },
   "file_extension": ".py",
   "mimetype": "text/x-python",
   "name": "python",
   "nbconvert_exporter": "python",
   "pygments_lexer": "ipython3",
   "version": "3.10.9"
  }
 },
 "nbformat": 4,
 "nbformat_minor": 5
}
